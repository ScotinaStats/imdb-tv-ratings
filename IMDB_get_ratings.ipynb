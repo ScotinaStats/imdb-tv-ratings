{
  "nbformat": 4,
  "nbformat_minor": 0,
  "metadata": {
    "colab": {
      "name": "IMDB-get-ratings.ipynb",
      "version": "0.3.2",
      "provenance": []
    },
    "kernelspec": {
      "name": "python3",
      "display_name": "Python 3"
    }
  },
  "cells": [
    {
      "cell_type": "markdown",
      "metadata": {
        "id": "y_FwY4JcFD6X",
        "colab_type": "text"
      },
      "source": [
        "# Get all ratings from IMDB series\n",
        "The goal of this code is to get all ratings from a IMDB TV Series and plot them:"
      ]
    },
    {
      "cell_type": "code",
      "metadata": {
        "id": "s6fYLy9jFEn9",
        "colab_type": "code",
        "colab": {}
      },
      "source": [
        "URL = 'https://www.imdb.com/title/tt2802850/episodes?season=1'"
      ],
      "execution_count": 0,
      "outputs": []
    },
    {
      "cell_type": "code",
      "metadata": {
        "id": "nUVOR8uXF0sP",
        "colab_type": "code",
        "colab": {}
      },
      "source": [
        "from bs4 import BeautifulSoup as BS\n",
        "import requests\n",
        "from time import sleep\n",
        "import numpy as np"
      ],
      "execution_count": 0,
      "outputs": []
    },
    {
      "cell_type": "code",
      "metadata": {
        "id": "_KlmfbqCF64C",
        "colab_type": "code",
        "colab": {}
      },
      "source": [
        "c = r.get(URL).content"
      ],
      "execution_count": 0,
      "outputs": []
    },
    {
      "cell_type": "code",
      "metadata": {
        "id": "oWV3nuYtGcFv",
        "colab_type": "code",
        "colab": {}
      },
      "source": [
        "soup = BS(c, 'html.parser')"
      ],
      "execution_count": 0,
      "outputs": []
    },
    {
      "cell_type": "code",
      "metadata": {
        "id": "QAhuoGBCGheB",
        "colab_type": "code",
        "colab": {}
      },
      "source": [
        "allrates = soup.findAll(\"div\", { \"class\" : 'ipl-rating-star small' })"
      ],
      "execution_count": 0,
      "outputs": []
    },
    {
      "cell_type": "code",
      "metadata": {
        "id": "5Olqqu2mHGVC",
        "colab_type": "code",
        "colab": {
          "base_uri": "https://localhost:8080/",
          "height": 54
        },
        "outputId": "46fc1e7e-ea33-4b40-f724-8bc8b0416884"
      },
      "source": [
        "str(allrates[0])"
      ],
      "execution_count": 27,
      "outputs": [
        {
          "output_type": "execute_result",
          "data": {
            "text/plain": [
              "'<div class=\"ipl-rating-star small\">\\n<span class=\"ipl-rating-star__star\">\\n<svg class=\"ipl-icon ipl-star-icon \" fill=\"#000000\" height=\"24\" viewbox=\"0 0 24 24\" width=\"24\" xmlns=\"http://www.w3.org/2000/svg\">\\n<path d=\"M0 0h24v24H0z\" fill=\"none\"></path>\\n<path d=\"M12 17.27L18.18 21l-1.64-7.03L22 9.24l-7.19-.61L12 2 9.19 8.63 2 9.24l5.46 4.73L5.82 21z\"></path>\\n<path d=\"M0 0h24v24H0z\" fill=\"none\"></path>\\n</svg>\\n</span>\\n<span class=\"ipl-rating-star__rating\">9.4</span>\\n<span class=\"ipl-rating-star__total-votes\">(9,859)</span>\\n</div>'"
            ]
          },
          "metadata": {
            "tags": []
          },
          "execution_count": 27
        }
      ]
    },
    {
      "cell_type": "code",
      "metadata": {
        "id": "-ZoBQ_MGHJRP",
        "colab_type": "code",
        "colab": {}
      },
      "source": [
        "import re"
      ],
      "execution_count": 0,
      "outputs": []
    },
    {
      "cell_type": "code",
      "metadata": {
        "id": "qLqEQQ0QLTO3",
        "colab_type": "code",
        "colab": {}
      },
      "source": [
        "ratings = [float(re.search('ipl-rating-star__rating\">(.*)</span', str(ar)).group(1)) for ar in allrates]"
      ],
      "execution_count": 0,
      "outputs": []
    },
    {
      "cell_type": "code",
      "metadata": {
        "id": "svbbgc-3LgBv",
        "colab_type": "code",
        "colab": {
          "base_uri": "https://localhost:8080/",
          "height": 34
        },
        "outputId": "dcd7b611-ae65-4c0f-f7ea-66fde7988203"
      },
      "source": [
        "ratings"
      ],
      "execution_count": 41,
      "outputs": [
        {
          "output_type": "execute_result",
          "data": {
            "text/plain": [
              "[9.4, 8.5, 8.7, 9.1, 8.6, 9.4, 9.1, 8.8, 9.4, 9.4]"
            ]
          },
          "metadata": {
            "tags": []
          },
          "execution_count": 41
        }
      ]
    },
    {
      "cell_type": "code",
      "metadata": {
        "id": "RE4JFZgVMOhK",
        "colab_type": "code",
        "colab": {}
      },
      "source": [
        "def get_ratings(serie_code, season):\n",
        "    URL = f'https://www.imdb.com/title/{serie_code}/episodes?season={season}'\n",
        "    c = requests.get(URL).content\n",
        "    soup = BS(c, 'html.parser')\n",
        "    allrates = soup.findAll(\"div\", { \"class\" : 'ipl-rating-star small' })\n",
        "    ratings = [float(re.search('ipl-rating-star__rating\">(.*)</span', str(ar)).group(1)) for ar in allrates]\n",
        "    return ratings"
      ],
      "execution_count": 0,
      "outputs": []
    },
    {
      "cell_type": "code",
      "metadata": {
        "id": "f4i1jUx3NESq",
        "colab_type": "code",
        "colab": {
          "base_uri": "https://localhost:8080/",
          "height": 34
        },
        "outputId": "b1571aa0-05ca-46b1-cd80-85054c108d1d"
      },
      "source": [
        "get_ratings('tt2802850', 2)"
      ],
      "execution_count": 47,
      "outputs": [
        {
          "output_type": "execute_result",
          "data": {
            "text/plain": [
              "[9.0, 8.7, 8.8, 8.9, 9.3, 9.4, 9.0, 9.5, 9.6, 8.6]"
            ]
          },
          "metadata": {
            "tags": []
          },
          "execution_count": 47
        }
      ]
    },
    {
      "cell_type": "code",
      "metadata": {
        "id": "9zl-PHtXOMn6",
        "colab_type": "code",
        "colab": {}
      },
      "source": [
        "s3 = get_ratings('tt2802850', 3)"
      ],
      "execution_count": 0,
      "outputs": []
    },
    {
      "cell_type": "code",
      "metadata": {
        "id": "Y82pRcYAOhRQ",
        "colab_type": "code",
        "colab": {
          "base_uri": "https://localhost:8080/",
          "height": 34
        },
        "outputId": "777f7ddd-aeb3-4735-bc5b-60fc9d91f9b0"
      },
      "source": [
        "s3"
      ],
      "execution_count": 49,
      "outputs": [
        {
          "output_type": "execute_result",
          "data": {
            "text/plain": [
              "[8.7, 8.2, 8.1, 8.4, 8.5, 8.9, 8.5, 9.1, 9.0, 8.7]"
            ]
          },
          "metadata": {
            "tags": []
          },
          "execution_count": 49
        }
      ]
    },
    {
      "cell_type": "code",
      "metadata": {
        "id": "YqHVWGvXOiHx",
        "colab_type": "code",
        "colab": {}
      },
      "source": [
        "test = get_ratings('tt2802850', 5)"
      ],
      "execution_count": 0,
      "outputs": []
    },
    {
      "cell_type": "code",
      "metadata": {
        "id": "PqnKKsIDOxio",
        "colab_type": "code",
        "colab": {}
      },
      "source": [
        "flatten = lambda l: [item for sublist in l for item in sublist]\n",
        "\n",
        "def print_stats(rates):\n",
        "    print(f'Mean: {np.mean(flatten(rates))}')\n",
        "    print(f'Median: {np.median(flatten(rates))}')\n",
        "\n",
        "def get_all_ratings(serie_code, max_seasons=100):\n",
        "    all_ratings = []\n",
        "    for season in range(1,max_seasons+1):\n",
        "        ratings = get_ratings(serie_code, season)\n",
        "        try:\n",
        "            unrepeated = ratings!=all_ratings[-1]\n",
        "        except:\n",
        "            unrepeated = True\n",
        "        if len(ratings)>0 and unrepeated:\n",
        "            all_ratings.append(ratings)\n",
        "            print(f'Season {season} = {ratings}')\n",
        "            sleep(1)\n",
        "        else:\n",
        "            print_stats(all_ratings)\n",
        "            return all_ratings\n",
        "            break\n",
        "    print_stats(all_ratings)\n",
        "    return all_ratings"
      ],
      "execution_count": 0,
      "outputs": []
    },
    {
      "cell_type": "code",
      "metadata": {
        "id": "IeZe6oMhPfKA",
        "colab_type": "code",
        "colab": {
          "base_uri": "https://localhost:8080/",
          "height": 153
        },
        "outputId": "29dc27a9-340d-4ef7-aa4f-8c3f8cc06264"
      },
      "source": [
        "get_all_ratings('tt2802850', max_seasons=8)"
      ],
      "execution_count": 81,
      "outputs": [
        {
          "output_type": "stream",
          "text": [
            "Season 1 = [9.4, 8.5, 8.7, 9.1, 8.6, 9.4, 9.1, 8.8, 9.4, 9.4]\n",
            "Season 2 = [9.0, 8.7, 8.8, 8.9, 9.3, 9.4, 9.0, 9.5, 9.6, 8.6]\n",
            "Season 3 = [8.7, 8.2, 8.1, 8.4, 8.5, 8.9, 8.5, 9.1, 9.0, 8.7]\n",
            "Mean: 8.91\n",
            "Median: 8.9\n"
          ],
          "name": "stdout"
        },
        {
          "output_type": "execute_result",
          "data": {
            "text/plain": [
              "[[9.4, 8.5, 8.7, 9.1, 8.6, 9.4, 9.1, 8.8, 9.4, 9.4],\n",
              " [9.0, 8.7, 8.8, 8.9, 9.3, 9.4, 9.0, 9.5, 9.6, 8.6],\n",
              " [8.7, 8.2, 8.1, 8.4, 8.5, 8.9, 8.5, 9.1, 9.0, 8.7]]"
            ]
          },
          "metadata": {
            "tags": []
          },
          "execution_count": 81
        }
      ]
    },
    {
      "cell_type": "code",
      "metadata": {
        "id": "FA2F6SBFPg4p",
        "colab_type": "code",
        "colab": {}
      },
      "source": [
        "fargo = [[9.4, 8.5, 8.7, 9.1, 8.6, 9.4, 9.1, 8.8, 9.4, 9.4],\n",
        " [9.0, 8.7, 8.8, 8.9, 9.3, 9.4, 9.0, 9.5, 9.6, 8.6],\n",
        " [8.7, 8.2, 8.1, 8.4, 8.5, 8.9, 8.5, 9.1, 9.0, 8.7]]"
      ],
      "execution_count": 0,
      "outputs": []
    },
    {
      "cell_type": "code",
      "metadata": {
        "id": "cyDut8-qTG6S",
        "colab_type": "code",
        "colab": {
          "base_uri": "https://localhost:8080/",
          "height": 34
        },
        "outputId": "75bef968-980a-4376-fabd-ff2824145e05"
      },
      "source": [
        "list(range(1,6))"
      ],
      "execution_count": 79,
      "outputs": [
        {
          "output_type": "execute_result",
          "data": {
            "text/plain": [
              "[1, 2, 3, 4, 5]"
            ]
          },
          "metadata": {
            "tags": []
          },
          "execution_count": 79
        }
      ]
    },
    {
      "cell_type": "code",
      "metadata": {
        "id": "Wrs58X8iP_4K",
        "colab_type": "code",
        "colab": {
          "base_uri": "https://localhost:8080/",
          "height": 34
        },
        "outputId": "6f95cbc8-1954-4442-c8ef-ad33d80bb092"
      },
      "source": [
        "np.mean(fargo)"
      ],
      "execution_count": 69,
      "outputs": [
        {
          "output_type": "execute_result",
          "data": {
            "text/plain": [
              "8.91"
            ]
          },
          "metadata": {
            "tags": []
          },
          "execution_count": 69
        }
      ]
    },
    {
      "cell_type": "code",
      "metadata": {
        "id": "UUPdb8m5QBL1",
        "colab_type": "code",
        "colab": {
          "base_uri": "https://localhost:8080/",
          "height": 34
        },
        "outputId": "e1f61960-9a78-4eb1-9c15-0077e4cd3a49"
      },
      "source": [
        "np.median(fargo)"
      ],
      "execution_count": 70,
      "outputs": [
        {
          "output_type": "execute_result",
          "data": {
            "text/plain": [
              "8.9"
            ]
          },
          "metadata": {
            "tags": []
          },
          "execution_count": 70
        }
      ]
    },
    {
      "cell_type": "code",
      "metadata": {
        "id": "HldZtYi3QRrb",
        "colab_type": "code",
        "colab": {
          "base_uri": "https://localhost:8080/",
          "height": 153
        },
        "outputId": "d5d2a0f8-e06b-464d-8164-cf02b2abdb92"
      },
      "source": [
        "got = get_all_ratings('tt0944947', max_seasons=8)"
      ],
      "execution_count": 89,
      "outputs": [
        {
          "output_type": "stream",
          "text": [
            "Season 1 = [9.1, 8.8, 8.7, 8.8, 9.1, 9.2, 9.3, 9.1, 9.6, 9.5]\n",
            "Season 2 = [8.9, 8.6, 8.9, 8.9, 8.9, 9.1, 9.0, 8.9, 9.7, 9.4]\n",
            "Season 3 = [8.9, 8.7, 8.9, 9.6, 9.0, 8.9, 8.8, 9.1, 9.9, 9.2]\n",
            "Season 4 = [9.1, 9.7, 8.9, 8.9, 8.8, 9.7, 9.2, 9.7, 9.6, 9.7]\n",
            "Season 5 = [8.6, 8.6, 8.6, 8.8, 8.7, 8.1, 9.1, 9.9, 9.5, 9.1]\n",
            "Season 6 = [8.6, 9.4, 8.8, 9.2, 9.7, 8.5, 8.7, 8.5, 9.9, 9.9]\n",
            "Season 7 = [8.7, 9.0, 9.3, 9.8, 9.0, 9.2, 9.5]\n",
            "Season 8 = [8.3, 8.6, 8.3, 6.4, 7.1]\n"
          ],
          "name": "stdout"
        }
      ]
    },
    {
      "cell_type": "code",
      "metadata": {
        "id": "GJiXLpcaSSJE",
        "colab_type": "code",
        "colab": {
          "base_uri": "https://localhost:8080/",
          "height": 153
        },
        "outputId": "82ac63d3-34f0-4f0e-9688-762078a5b9df"
      },
      "source": [
        "got"
      ],
      "execution_count": 92,
      "outputs": [
        {
          "output_type": "execute_result",
          "data": {
            "text/plain": [
              "[[9.1, 8.8, 8.7, 8.8, 9.1, 9.2, 9.3, 9.1, 9.6, 9.5],\n",
              " [8.9, 8.6, 8.9, 8.9, 8.9, 9.1, 9.0, 8.9, 9.7, 9.4],\n",
              " [8.9, 8.7, 8.9, 9.6, 9.0, 8.9, 8.8, 9.1, 9.9, 9.2],\n",
              " [9.1, 9.7, 8.9, 8.9, 8.8, 9.7, 9.2, 9.7, 9.6, 9.7],\n",
              " [8.6, 8.6, 8.6, 8.8, 8.7, 8.1, 9.1, 9.9, 9.5, 9.1],\n",
              " [8.6, 9.4, 8.8, 9.2, 9.7, 8.5, 8.7, 8.5, 9.9, 9.9],\n",
              " [8.7, 9.0, 9.3, 9.8, 9.0, 9.2, 9.5],\n",
              " [8.3, 8.6, 8.3, 6.4, 7.1]]"
            ]
          },
          "metadata": {
            "tags": []
          },
          "execution_count": 92
        }
      ]
    },
    {
      "cell_type": "code",
      "metadata": {
        "id": "PdCjJNt-SkRr",
        "colab_type": "code",
        "colab": {}
      },
      "source": [
        ""
      ],
      "execution_count": 0,
      "outputs": []
    },
    {
      "cell_type": "code",
      "metadata": {
        "id": "g0HzuUhsU_bJ",
        "colab_type": "code",
        "colab": {
          "base_uri": "https://localhost:8080/",
          "height": 34
        },
        "outputId": "e15fa538-db28-4018-a273-0012f4b42526"
      },
      "source": [
        "np.mean(flatten(got))"
      ],
      "execution_count": 95,
      "outputs": [
        {
          "output_type": "execute_result",
          "data": {
            "text/plain": [
              "9.016666666666667"
            ]
          },
          "metadata": {
            "tags": []
          },
          "execution_count": 95
        }
      ]
    },
    {
      "cell_type": "code",
      "metadata": {
        "id": "CMXwa6RvVAWz",
        "colab_type": "code",
        "colab": {
          "base_uri": "https://localhost:8080/",
          "height": 34
        },
        "outputId": "7a7fefc2-40e3-4c0b-f9ed-c05f11de1eed"
      },
      "source": [
        "np.median(flatten(got))"
      ],
      "execution_count": 96,
      "outputs": [
        {
          "output_type": "execute_result",
          "data": {
            "text/plain": [
              "9.0"
            ]
          },
          "metadata": {
            "tags": []
          },
          "execution_count": 96
        }
      ]
    },
    {
      "cell_type": "code",
      "metadata": {
        "id": "AmPlfn2FVHQo",
        "colab_type": "code",
        "colab": {
          "base_uri": "https://localhost:8080/",
          "height": 102
        },
        "outputId": "20449511-0f30-450c-cdd8-b291c37b37b9"
      },
      "source": [
        "rickmorty = get_all_ratings('tt2861424')"
      ],
      "execution_count": 103,
      "outputs": [
        {
          "output_type": "stream",
          "text": [
            "Season 1 = [8.0, 8.5, 8.3, 8.5, 8.8, 8.8, 8.0, 8.5, 8.3, 9.1, 8.3]\n",
            "Season 2 = [8.6, 8.6, 8.4, 9.3, 8.1, 9.0, 8.3, 7.5, 8.3, 9.0]\n",
            "Season 3 = [9.5, 8.1, 9.2, 8.1, 8.4, 8.8, 9.8, 8.8, 7.9, 8.1]\n",
            "Mean: 8.545161290322582\n",
            "Median: 8.5\n"
          ],
          "name": "stdout"
        }
      ]
    },
    {
      "cell_type": "code",
      "metadata": {
        "id": "QopmSU7GWGCG",
        "colab_type": "code",
        "colab": {
          "base_uri": "https://localhost:8080/",
          "height": 102
        },
        "outputId": "d339e18a-b15b-414a-c52b-6aa974585a9f"
      },
      "source": [
        "avatar = get_all_ratings('tt0417299')"
      ],
      "execution_count": 109,
      "outputs": [
        {
          "output_type": "stream",
          "text": [
            "Season 1 = [8.6, 8.2, 8.4, 8.5, 8.2, 8.3, 8.1, 8.3, 8.9, 8.1, 8.0, 7.2, 9.0, 9.0, 8.0, 8.0, 8.5, 8.1, 8.6, 9.4]\n",
            "Season 2 = [8.7, 8.3, 8.5, 7.9, 7.7, 9.1, 9.4, 8.9, 8.6, 8.8, 8.8, 8.4, 9.0, 8.7, 9.1, 8.8, 9.0, 8.6, 9.0, 9.5]\n",
            "Season 3 = [8.7, 8.5, 8.1, 8.8, 8.5, 9.4, 8.3, 9.0, 7.9, 9.1, 9.3, 8.9, 9.1, 8.7, 9.2, 8.9, 8.7, 9.1, 9.4, 9.6, 9.8]\n",
            "Mean: 8.675409836065572\n",
            "Median: 8.7\n"
          ],
          "name": "stdout"
        }
      ]
    },
    {
      "cell_type": "code",
      "metadata": {
        "id": "-JjssGfpXYnZ",
        "colab_type": "code",
        "colab": {
          "base_uri": "https://localhost:8080/",
          "height": 136
        },
        "outputId": "da793100-1236-4f9a-b012-9886e8645e67"
      },
      "source": [
        "it_crowd = get_all_ratings('tt0487831')"
      ],
      "execution_count": 110,
      "outputs": [
        {
          "output_type": "stream",
          "text": [
            "Season 1 = [7.7, 8.3, 7.9, 8.0, 8.5, 8.2]\n",
            "Season 2 = [9.4, 8.2, 8.3, 8.7, 7.9, 7.7]\n",
            "Season 3 = [7.8, 8.4, 8.2, 9.0, 8.5, 7.8]\n",
            "Season 4 = [8.1, 8.4, 7.5, 8.3, 8.4, 7.6]\n",
            "Season 5 = [8.6]\n",
            "Mean: 8.216000000000001\n",
            "Median: 8.2\n"
          ],
          "name": "stdout"
        }
      ]
    },
    {
      "cell_type": "code",
      "metadata": {
        "id": "bzMazCljZa4z",
        "colab_type": "code",
        "colab": {}
      },
      "source": [
        ""
      ],
      "execution_count": 0,
      "outputs": []
    }
  ]
}